{
 "cells": [
  {
   "cell_type": "code",
   "execution_count": 1,
   "metadata": {},
   "outputs": [],
   "source": [
    "import numpy as np"
   ]
  },
  {
   "cell_type": "code",
   "execution_count": 8,
   "metadata": {},
   "outputs": [],
   "source": [
    "matriks = np.array([[1,-1],\n",
    "                    [6,4]])\n",
    "\n",
    "a = np.array([1,3])"
   ]
  },
  {
   "cell_type": "code",
   "execution_count": 9,
   "metadata": {},
   "outputs": [
    {
     "data": {
      "text/plain": [
       "(array([2.5+1.93649167j, 2.5-1.93649167j]),\n",
       " array([[-0.23145502+0.29880715j, -0.23145502-0.29880715j],\n",
       "        [ 0.9258201 +0.j        ,  0.9258201 -0.j        ]]))"
      ]
     },
     "execution_count": 9,
     "metadata": {},
     "output_type": "execute_result"
    }
   ],
   "source": [
    "eig_val , eig_vec = np.linalg.eig(matriks)\n",
    "eig_val,eig_vec"
   ]
  },
  {
   "cell_type": "code",
   "execution_count": 10,
   "metadata": {},
   "outputs": [
    {
     "data": {
      "text/plain": [
       "array([0.31622777, 0.9486833 ])"
      ]
     },
     "execution_count": 10,
     "metadata": {},
     "output_type": "execute_result"
    }
   ],
   "source": [
    "a = np.array([1,3]) /np.sqrt(10)\n",
    "a\n",
    "#hasil a adalah eigen vector yang seharusnya dicocokkan dengan eigen vector pada array [[1,-1],[6,4]]"
   ]
  },
  {
   "cell_type": "markdown",
   "metadata": {},
   "source": [
    "eigenvector di atas [0.316,0.948] tidak ada yang mirip dengan eigenvector dari matriks [[1,-1],[6,4]]"
   ]
  },
  {
   "cell_type": "code",
   "execution_count": 12,
   "metadata": {},
   "outputs": [
    {
     "data": {
      "text/plain": [
       "array([[ 1.+4.4408921e-16j, -1.+0.0000000e+00j],\n",
       "       [ 6.-4.4408921e-16j,  4.+0.0000000e+00j]])"
      ]
     },
     "execution_count": 12,
     "metadata": {},
     "output_type": "execute_result"
    }
   ],
   "source": [
    "#dekomposisi ulang matriks menggunakan eigendecomposition\n",
    "eig_decomposition = eig_vec @ np.diag(eig_val) @ np.linalg.inv(eig_vec)\n",
    "eig_decomposition"
   ]
  },
  {
   "cell_type": "markdown",
   "metadata": {},
   "source": [
    "dapat disimpulkan bahwa [1,3] bukan eigenvector dari [[1,1],[6,4]]"
   ]
  }
 ],
 "metadata": {
  "interpreter": {
   "hash": "3bd9e1803757a9f6b64d1a38fb31ad1020db98b4ae520118c762ef56afaef919"
  },
  "kernelspec": {
   "display_name": "Python 3.9.7 ('base')",
   "language": "python",
   "name": "python3"
  },
  "language_info": {
   "codemirror_mode": {
    "name": "ipython",
    "version": 3
   },
   "file_extension": ".py",
   "mimetype": "text/x-python",
   "name": "python",
   "nbconvert_exporter": "python",
   "pygments_lexer": "ipython3",
   "version": "3.9.7"
  },
  "orig_nbformat": 4
 },
 "nbformat": 4,
 "nbformat_minor": 2
}
